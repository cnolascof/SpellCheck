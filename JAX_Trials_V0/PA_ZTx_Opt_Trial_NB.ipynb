{
  "nbformat": 4,
  "nbformat_minor": 0,
  "metadata": {
    "colab": {
      "provenance": [],
      "authorship_tag": "ABX9TyOZLn04GZY+/j1YeEQjy6QG",
      "include_colab_link": true
    },
    "kernelspec": {
      "name": "python3",
      "display_name": "Python 3"
    },
    "language_info": {
      "name": "python"
    }
  },
  "cells": [
    {
      "cell_type": "markdown",
      "metadata": {
        "id": "view-in-github",
        "colab_type": "text"
      },
      "source": [
        "<a href=\"https://colab.research.google.com/github/cnolascof/SpellCheck/blob/main/JAX_Trials_V0/PA_ZTx_Opt_Trial_NB.ipynb\" target=\"_parent\"><img src=\"https://colab.research.google.com/assets/colab-badge.svg\" alt=\"Open In Colab\"/></a>"
      ]
    },
    {
      "cell_type": "markdown",
      "source": [
        "# PA Impedance Optimization for Maximum Gain at User\n",
        "\n"
      ],
      "metadata": {
        "id": "UXJ6GJei1f1J"
      }
    },
    {
      "cell_type": "code",
      "execution_count": 34,
      "metadata": {
        "id": "zo_1yEghJ4GN"
      },
      "outputs": [],
      "source": [
        "# Necessary imports\n",
        "import jax\n",
        "import jax.numpy as jnp\n",
        "from jax import jit, vmap\n",
        "from jax import grad\n",
        "from jax import device_put, device_get\n",
        "from jax.experimental.pjit import pjit\n",
        "from jax.sharding import PartitionSpec\n",
        "import jax.lax\n",
        "import autograd\n",
        "from autograd import grad as agrad\n",
        "\n",
        "import time\n",
        "from scipy.io import loadmat\n",
        "import numpy as np\n",
        "from google.colab import drive\n",
        "from dataclasses import dataclass, field\n",
        "from flax import struct"
      ]
    },
    {
      "cell_type": "code",
      "execution_count": 2,
      "metadata": {
        "colab": {
          "base_uri": "https://localhost:8080/"
        },
        "id": "tan5BjZMJo_k",
        "outputId": "a815cb38-1fbd-4f5f-de23-4c6cd107a1ba"
      },
      "outputs": [
        {
          "output_type": "stream",
          "name": "stdout",
          "text": [
            "JAX version: 0.5.0\n",
            "Available devices: [CpuDevice(id=0)]\n"
          ]
        }
      ],
      "source": [
        "# Check JAX version\n",
        "# Note: most recent version is 0.5.0\n",
        "# If output is older version, run next cell to update JAX and restart runtime\n",
        "print(f\"JAX version: {jax.__version__}\")\n",
        "\n",
        "# Enable 64 precision\n",
        "from jax import config\n",
        "config.update(\"jax_enable_x64\", True)\n",
        "\n",
        "# List available devices\n",
        "devices = jax.devices()\n",
        "print(\"Available devices:\", devices)"
      ]
    },
    {
      "cell_type": "code",
      "source": [
        "# Import latest version of JAX (if necessary) : latest version is 0.5.0\n",
        "# Note: after updating will need to restart runtime\n",
        "!pip install --upgrade \"jax[cpu]\"  # For CPU-only support\n",
        "!pip install --upgrade \"jax[cuda]\" -f https://storage.googleapis.com/jax-releases/jax_cuda_releases.html"
      ],
      "metadata": {
        "collapsed": true,
        "id": "A5FDpDIIAeIV",
        "colab": {
          "base_uri": "https://localhost:8080/",
          "height": 1000
        },
        "outputId": "c1ef7cb2-479e-45cb-c76c-36e0d619f193"
      },
      "execution_count": 3,
      "outputs": [
        {
          "output_type": "stream",
          "name": "stdout",
          "text": [
            "Requirement already satisfied: jax[cpu] in /usr/local/lib/python3.11/dist-packages (0.4.33)\n",
            "Collecting jax[cpu]\n",
            "  Downloading jax-0.5.0-py3-none-any.whl.metadata (22 kB)\n",
            "Collecting jaxlib<=0.5.0,>=0.5.0 (from jax[cpu])\n",
            "  Downloading jaxlib-0.5.0-cp311-cp311-manylinux2014_x86_64.whl.metadata (978 bytes)\n",
            "Requirement already satisfied: ml_dtypes>=0.4.0 in /usr/local/lib/python3.11/dist-packages (from jax[cpu]) (0.4.1)\n",
            "Requirement already satisfied: numpy>=1.25 in /usr/local/lib/python3.11/dist-packages (from jax[cpu]) (1.26.4)\n",
            "Requirement already satisfied: opt_einsum in /usr/local/lib/python3.11/dist-packages (from jax[cpu]) (3.4.0)\n",
            "Requirement already satisfied: scipy>=1.11.1 in /usr/local/lib/python3.11/dist-packages (from jax[cpu]) (1.13.1)\n",
            "Downloading jaxlib-0.5.0-cp311-cp311-manylinux2014_x86_64.whl (102.0 MB)\n",
            "\u001b[2K   \u001b[90m━━━━━━━━━━━━━━━━━━━━━━━━━━━━━━━━━━━━━━━━\u001b[0m \u001b[32m102.0/102.0 MB\u001b[0m \u001b[31m7.3 MB/s\u001b[0m eta \u001b[36m0:00:00\u001b[0m\n",
            "\u001b[?25hDownloading jax-0.5.0-py3-none-any.whl (2.3 MB)\n",
            "\u001b[2K   \u001b[90m━━━━━━━━━━━━━━━━━━━━━━━━━━━━━━━━━━━━━━━━\u001b[0m \u001b[32m2.3/2.3 MB\u001b[0m \u001b[31m55.6 MB/s\u001b[0m eta \u001b[36m0:00:00\u001b[0m\n",
            "\u001b[?25hInstalling collected packages: jaxlib, jax\n",
            "  Attempting uninstall: jaxlib\n",
            "    Found existing installation: jaxlib 0.4.33\n",
            "    Uninstalling jaxlib-0.4.33:\n",
            "      Successfully uninstalled jaxlib-0.4.33\n",
            "  Attempting uninstall: jax\n",
            "    Found existing installation: jax 0.4.33\n",
            "    Uninstalling jax-0.4.33:\n",
            "      Successfully uninstalled jax-0.4.33\n",
            "Successfully installed jax-0.5.0 jaxlib-0.5.0\n"
          ]
        },
        {
          "output_type": "display_data",
          "data": {
            "application/vnd.colab-display-data+json": {
              "pip_warning": {
                "packages": [
                  "jax",
                  "jaxlib"
                ]
              },
              "id": "d2cc2b6ec1cb4eecbd83a648c434e292"
            }
          },
          "metadata": {}
        },
        {
          "output_type": "stream",
          "name": "stdout",
          "text": [
            "Looking in links: https://storage.googleapis.com/jax-releases/jax_cuda_releases.html\n",
            "Requirement already satisfied: jax[cuda] in /usr/local/lib/python3.11/dist-packages (0.5.0)\n",
            "Requirement already satisfied: jaxlib<=0.5.0,>=0.5.0 in /usr/local/lib/python3.11/dist-packages (from jax[cuda]) (0.5.0)\n",
            "Requirement already satisfied: ml_dtypes>=0.4.0 in /usr/local/lib/python3.11/dist-packages (from jax[cuda]) (0.4.1)\n",
            "Requirement already satisfied: numpy>=1.25 in /usr/local/lib/python3.11/dist-packages (from jax[cuda]) (1.26.4)\n",
            "Requirement already satisfied: opt_einsum in /usr/local/lib/python3.11/dist-packages (from jax[cuda]) (3.4.0)\n",
            "Requirement already satisfied: scipy>=1.11.1 in /usr/local/lib/python3.11/dist-packages (from jax[cuda]) (1.13.1)\n",
            "Collecting jax-cuda12-plugin<=0.5.0,>=0.5.0 (from jax-cuda12-plugin[with_cuda]<=0.5.0,>=0.5.0; extra == \"cuda\"->jax[cuda])\n",
            "  Downloading jax_cuda12_plugin-0.5.0-cp311-cp311-manylinux2014_x86_64.whl.metadata (1.2 kB)\n",
            "Collecting jax-cuda12-pjrt==0.5.0 (from jax-cuda12-plugin<=0.5.0,>=0.5.0->jax-cuda12-plugin[with_cuda]<=0.5.0,>=0.5.0; extra == \"cuda\"->jax[cuda])\n",
            "  Downloading jax_cuda12_pjrt-0.5.0-py3-none-manylinux2014_x86_64.whl.metadata (348 bytes)\n",
            "Requirement already satisfied: nvidia-cublas-cu12>=12.1.3.1 in /usr/local/lib/python3.11/dist-packages (from jax-cuda12-plugin[with_cuda]<=0.5.0,>=0.5.0; extra == \"cuda\"->jax[cuda]) (12.5.3.2)\n",
            "Requirement already satisfied: nvidia-cuda-cupti-cu12>=12.1.105 in /usr/local/lib/python3.11/dist-packages (from jax-cuda12-plugin[with_cuda]<=0.5.0,>=0.5.0; extra == \"cuda\"->jax[cuda]) (12.5.82)\n",
            "Collecting nvidia-cuda-nvcc-cu12>=12.6.85 (from jax-cuda12-plugin[with_cuda]<=0.5.0,>=0.5.0; extra == \"cuda\"->jax[cuda])\n",
            "  Downloading nvidia_cuda_nvcc_cu12-12.8.61-py3-none-manylinux2010_x86_64.manylinux_2_12_x86_64.whl.metadata (1.7 kB)\n",
            "Requirement already satisfied: nvidia-cuda-runtime-cu12>=12.1.105 in /usr/local/lib/python3.11/dist-packages (from jax-cuda12-plugin[with_cuda]<=0.5.0,>=0.5.0; extra == \"cuda\"->jax[cuda]) (12.5.82)\n",
            "Requirement already satisfied: nvidia-cudnn-cu12<10.0,>=9.1 in /usr/local/lib/python3.11/dist-packages (from jax-cuda12-plugin[with_cuda]<=0.5.0,>=0.5.0; extra == \"cuda\"->jax[cuda]) (9.3.0.75)\n",
            "Requirement already satisfied: nvidia-cufft-cu12>=11.0.2.54 in /usr/local/lib/python3.11/dist-packages (from jax-cuda12-plugin[with_cuda]<=0.5.0,>=0.5.0; extra == \"cuda\"->jax[cuda]) (11.2.3.61)\n",
            "Requirement already satisfied: nvidia-cusolver-cu12>=11.4.5.107 in /usr/local/lib/python3.11/dist-packages (from jax-cuda12-plugin[with_cuda]<=0.5.0,>=0.5.0; extra == \"cuda\"->jax[cuda]) (11.6.3.83)\n",
            "Requirement already satisfied: nvidia-cusparse-cu12>=12.1.0.106 in /usr/local/lib/python3.11/dist-packages (from jax-cuda12-plugin[with_cuda]<=0.5.0,>=0.5.0; extra == \"cuda\"->jax[cuda]) (12.5.1.3)\n",
            "Requirement already satisfied: nvidia-nccl-cu12>=2.18.1 in /usr/local/lib/python3.11/dist-packages (from jax-cuda12-plugin[with_cuda]<=0.5.0,>=0.5.0; extra == \"cuda\"->jax[cuda]) (2.21.5)\n",
            "Requirement already satisfied: nvidia-nvjitlink-cu12>=12.1.105 in /usr/local/lib/python3.11/dist-packages (from jax-cuda12-plugin[with_cuda]<=0.5.0,>=0.5.0; extra == \"cuda\"->jax[cuda]) (12.5.82)\n",
            "Downloading jax_cuda12_plugin-0.5.0-cp311-cp311-manylinux2014_x86_64.whl (16.7 MB)\n",
            "\u001b[2K   \u001b[90m━━━━━━━━━━━━━━━━━━━━━━━━━━━━━━━━━━━━━━━━\u001b[0m \u001b[32m16.7/16.7 MB\u001b[0m \u001b[31m85.9 MB/s\u001b[0m eta \u001b[36m0:00:00\u001b[0m\n",
            "\u001b[?25hDownloading jax_cuda12_pjrt-0.5.0-py3-none-manylinux2014_x86_64.whl (103.1 MB)\n",
            "\u001b[2K   \u001b[90m━━━━━━━━━━━━━━━━━━━━━━━━━━━━━━━━━━━━━━━━\u001b[0m \u001b[32m103.1/103.1 MB\u001b[0m \u001b[31m7.8 MB/s\u001b[0m eta \u001b[36m0:00:00\u001b[0m\n",
            "\u001b[?25hDownloading nvidia_cuda_nvcc_cu12-12.8.61-py3-none-manylinux2010_x86_64.manylinux_2_12_x86_64.whl (40.1 MB)\n",
            "\u001b[2K   \u001b[90m━━━━━━━━━━━━━━━━━━━━━━━━━━━━━━━━━━━━━━━━\u001b[0m \u001b[32m40.1/40.1 MB\u001b[0m \u001b[31m17.5 MB/s\u001b[0m eta \u001b[36m0:00:00\u001b[0m\n",
            "\u001b[?25hInstalling collected packages: jax-cuda12-pjrt, nvidia-cuda-nvcc-cu12, jax-cuda12-plugin\n",
            "  Attempting uninstall: jax-cuda12-pjrt\n",
            "    Found existing installation: jax-cuda12-pjrt 0.4.33\n",
            "    Uninstalling jax-cuda12-pjrt-0.4.33:\n",
            "      Successfully uninstalled jax-cuda12-pjrt-0.4.33\n",
            "  Attempting uninstall: nvidia-cuda-nvcc-cu12\n",
            "    Found existing installation: nvidia-cuda-nvcc-cu12 12.5.82\n",
            "    Uninstalling nvidia-cuda-nvcc-cu12-12.5.82:\n",
            "      Successfully uninstalled nvidia-cuda-nvcc-cu12-12.5.82\n",
            "  Attempting uninstall: jax-cuda12-plugin\n",
            "    Found existing installation: jax-cuda12-plugin 0.4.33\n",
            "    Uninstalling jax-cuda12-plugin-0.4.33:\n",
            "      Successfully uninstalled jax-cuda12-plugin-0.4.33\n",
            "Successfully installed jax-cuda12-pjrt-0.5.0 jax-cuda12-plugin-0.5.0 nvidia-cuda-nvcc-cu12-12.8.61\n"
          ]
        },
        {
          "output_type": "display_data",
          "data": {
            "application/vnd.colab-display-data+json": {
              "pip_warning": {
                "packages": [
                  "jax_cuda12_plugin",
                  "jax_plugins"
                ]
              },
              "id": "8221054f185c49e29bfe7148045dc785"
            }
          },
          "metadata": {}
        }
      ]
    },
    {
      "cell_type": "code",
      "execution_count": 35,
      "metadata": {
        "colab": {
          "base_uri": "https://localhost:8080/"
        },
        "id": "Yqv9b_kQbAGj",
        "outputId": "7ca50777-1fc8-4a3e-f1c7-3b9835b72928"
      },
      "outputs": [
        {
          "output_type": "stream",
          "name": "stdout",
          "text": [
            "Drive already mounted at /content/drive; to attempt to forcibly remount, call drive.mount(\"/content/drive\", force_remount=True).\n"
          ]
        }
      ],
      "source": [
        "# Import Google Drive\n",
        "drive.mount('/content/drive')"
      ]
    },
    {
      "cell_type": "markdown",
      "source": [
        "## Define Architecture parameters\n",
        "\n",
        "*   RF Frontend: 3 PAs w/ tunable impedances to optimize, z_tx_i\n",
        "*   Tunning Network: none, short connection between RF and Rad Structure\n",
        "*   Radiating Structure: 3 dipole antennas at d=lambda/2"
      ],
      "metadata": {
        "id": "bMxzVb6o4YMi"
      }
    },
    {
      "cell_type": "code",
      "execution_count": 36,
      "metadata": {
        "id": "7YuK6cI5uSPG"
      },
      "outputs": [],
      "source": [
        "# Define System Parameters\n",
        "\n",
        "@dataclass(frozen=True)\n",
        "class SystemParams:\n",
        "    N: int    # Number of PAs\n",
        "    M: int    # Number of Antennas\n",
        "    R0: float # Reference impedance\n",
        "    p_ctr: float  # Power constraint\n",
        "    f: float  # Frequency (Hz)\n",
        "    d_ratio: float  # Ratio of lambda for antenna distance\n",
        "    c: float = 299792458  # Speed of light (m/s), default value\n",
        "\n",
        "    # Dependent variables are computed\n",
        "    lambda_: float = field(init=False)  # Wavelength\n",
        "    k: float = field(init=False)  # Wave number\n",
        "    d: float = field(init=False)  # Antenna distance\n",
        "\n",
        "    def __post_init__(self):\n",
        "        # Compute dependent variables\n",
        "        object.__setattr__(self, \"lambda_\", self.c / self.f)  # Wavelength = c / f\n",
        "        object.__setattr__(self, \"k\", 2 * jnp.pi / self.lambda_)  # Wave number = 2π / λ\n",
        "        object.__setattr__(self, \"d\", self.d_ratio * self.lambda_)  # Wave number = 2π / λ\n",
        "\n",
        "sys_params = SystemParams(\n",
        "    N = 3,\n",
        "    M = 3,\n",
        "    R0 = 50,\n",
        "    p_ctr =1,\n",
        "    f = 12e9,\n",
        "    d_ratio=0.5,\n",
        "    c = 299792458,\n",
        ")"
      ]
    },
    {
      "cell_type": "code",
      "execution_count": 37,
      "metadata": {
        "id": "CCdpAAooajBZ"
      },
      "outputs": [],
      "source": [
        "# Define REMS parameters\n",
        "\n",
        "# Note: Z_Tx defined separately as these values will be dynamically changed\n",
        "@struct.dataclass\n",
        "class REMSParams:\n",
        "    S_T_tt: jnp.ndarray         # Tunning network S parameters\n",
        "    S_T_tr: jnp.ndarray\n",
        "    S_T_rt: jnp.ndarray\n",
        "    S_T_rr: jnp.ndarray\n",
        "    Omega: jnp.ndarray          # Sampled FF space\n",
        "    S_R_RR: jnp.ndarray         # Radiating structure S parameters\n",
        "    s_R_FR_theta: jnp.ndarray\n",
        "    s_R_FR_phi: jnp.ndarray\n",
        "\n",
        "# Load the mat file\n",
        "mat_file_path = \"/content/drive/MyDrive/MST_Carolina/dipole_3_d05_s_R_degstep4_inter0.5.mat\"\n",
        "s_R_FR_data = loadmat(mat_file_path)\n",
        "\n",
        "# Create the REMSParams object\n",
        "REMS_params = REMSParams(\n",
        "    S_T_tt=jnp.zeros((sys_params.N, sys_params.N)),\n",
        "    S_T_tr=jnp.identity(sys_params.N),\n",
        "    S_T_rt=jnp.identity(sys_params.M),\n",
        "    S_T_rr=jnp.zeros((sys_params.M, sys_params.M)),\n",
        "    Omega=s_R_FR_data[\"Omega\"],\n",
        "    S_R_RR=jnp.array(s_R_FR_data[\"S_R_RR\"]),\n",
        "    s_R_FR_theta=jnp.array(s_R_FR_data[\"s_R_FR\"][:, :, 0]).T,\n",
        "    s_R_FR_phi=jnp.array(s_R_FR_data[\"s_R_FR\"][:, :, 1]).T,\n",
        ")"
      ]
    },
    {
      "cell_type": "markdown",
      "source": [
        "## Far Field functions\n",
        "\n",
        "Inputs - Same for all functions\n",
        "\n",
        "*   Sp: system parameters class (static)\n",
        "*   Rp: REMS parameters class\n",
        "*   z_tx: array containing PA impedances\n",
        "*   v_Tx_exact: exact beamsteering vector\n",
        "*   idx_Omega: index in sampled far field corresponding to target user location\n",
        "*   s: symbol to be sent to the user (by default s = 1)\n",
        "\n",
        "Outputs - Depending on the function\n",
        "\n",
        "*   far_field_at_user_only: (g_A, g_T, g_R) tuple for the gain at the user location\n",
        "*   far_field_at_user_only_tograd: g_A at the user location (function modified to be able to apply jit gradient)\n",
        "*   far_field_at_user_full: (g_A, g_T, g_R) tuple for the gain at all sampled space locations\n",
        "*   v_Tx_calc: v_Tx, exact beamsteering vector for given user location\n",
        "\n",
        "\n"
      ],
      "metadata": {
        "id": "SfyqoUsCnvPE"
      }
    },
    {
      "cell_type": "code",
      "source": [
        "# Function to calculate Far Field ONLY at user location\n",
        "def far_field_at_user_only(Sp, Rp, z_tx, v_Tx_exact, idx_Omega, s):\n",
        "\n",
        "    # Auxiliary variables for far field results\n",
        "    In = jnp.identity(Sp.N)\n",
        "    Im = jnp.identity(Sp.M)\n",
        "    Z_tx = jnp.diag(z_tx)\n",
        "\n",
        "    P_A_mat = jnp.asarray(jnp.linalg.solve(jnp.real(Z_tx), jnp.eye(jnp.real(Z_tx).shape[0])))\n",
        "    S_RF = jnp.asarray(jnp.linalg.solve(Z_tx + Sp.R0 * In, Z_tx - Sp.R0 * In))\n",
        "\n",
        "    L1 = S_RF @ Rp.S_T_tt\n",
        "    L2 = Rp.S_T_rr @ Rp.S_R_RR\n",
        "    aux1 = jnp.linalg.solve(Im - L2, Rp.S_T_rt)\n",
        "    L3 = S_RF @ Rp.S_T_tr @ Rp.S_R_RR @ aux1\n",
        "    K_vTx = jnp.linalg.solve(Z_tx + Sp.R0 * In, In) * jnp.sqrt(Sp.R0)\n",
        "\n",
        "    # G operators\n",
        "    G_vTx_aT = jnp.linalg.solve(In - L1 - L3, K_vTx)\n",
        "    G_vTx_bT = (Rp.S_T_tr @ Rp.S_R_RR @ aux1 + Rp.S_T_tt) @ G_vTx_aT\n",
        "\n",
        "    G_vTx_aR = aux1 @ G_vTx_aT\n",
        "    G_vTx_bR = Rp.S_R_RR @ G_vTx_aR\n",
        "\n",
        "    # Get s_R_FR slice we want\n",
        "    s_R_FR_theta_user = jax.lax.dynamic_slice(Rp.s_R_FR_theta, (idx_Omega, 0), (1, Sp.M))\n",
        "    s_R_FR_phi_user = jax.lax.dynamic_slice(Rp.s_R_FR_phi, (idx_Omega, 0), (1, Sp.M))\n",
        "\n",
        "    G_vTx_aF_theta = s_R_FR_theta_user @ G_vTx_aR\n",
        "    G_vTx_aF_phi = s_R_FR_phi_user @ G_vTx_aR\n",
        "\n",
        "    # EXACT BEAMSTEERING VECTOR\n",
        "\n",
        "    # Compute Power Metrics\n",
        "    P_A_exact_exact = jnp.real((1/4))*((jnp.conjugate(v_Tx_exact).T @ P_A_mat) @ v_Tx_exact)\n",
        "\n",
        "    aT_exact = G_vTx_aT @ v_Tx_exact\n",
        "    bT_exact = G_vTx_bT @ v_Tx_exact\n",
        "    P_T_exact_exact = jnp.linalg.norm(aT_exact)**2 - jnp.linalg.norm(bT_exact)**2\n",
        "\n",
        "    aR_exact = G_vTx_aR @ v_Tx_exact\n",
        "    bR_exact = G_vTx_bR @ v_Tx_exact\n",
        "    P_R_exact_exact = jnp.linalg.norm(aR_exact)**2 - jnp.linalg.norm(bR_exact)**2\n",
        "\n",
        "    # EXACT MODEL w/ EXACT BEAMSTEERING VECTOR\n",
        "\n",
        "    # Far field\n",
        "    aF_theta_exact = G_vTx_aF_theta @ v_Tx_exact\n",
        "    aF_phi_exact = G_vTx_aF_phi @ v_Tx_exact\n",
        "\n",
        "    # Normalize\n",
        "    aF_normsq_exact = jnp.abs(aF_theta_exact)**2 + jnp.abs(aF_phi_exact)**2;\n",
        "\n",
        "    # Gain metrics\n",
        "    g_A_exact_vTx_exact = (4 * jnp.pi / P_A_exact_exact) * aF_normsq_exact\n",
        "    g_T_exact_vTx_exact = (4 * jnp.pi / P_T_exact_exact) * aF_normsq_exact\n",
        "    g_R_exact_vTx_exact = (4 * jnp.pi / P_R_exact_exact) * aF_normsq_exact\n",
        "\n",
        "    return (g_A_exact_vTx_exact, g_T_exact_vTx_exact, g_R_exact_vTx_exact)\n",
        "\n",
        "# Function to calculate Far Field ONLY at user location\n",
        "# This is the function that will be used for the gradient, meaning\n",
        "# a) it only computes gA\n",
        "# b) uses .item() to return a scalar (doesn't work w JIT compilation)\n",
        "# small note: g_A will be a positive scalar, and grad requires the output to be a scalar,\n",
        "# which is why the norm is computed at the end\n",
        "def far_field_at_user_only_tograd(Sp, Rp, z_tx, v_Tx_exact, idx_Omega, s):\n",
        "\n",
        "    # Auxiliary variables for far field results\n",
        "    In = jnp.identity(Sp.N)\n",
        "    Im = jnp.identity(Sp.M)\n",
        "    Z_tx = jnp.diag(z_tx)\n",
        "\n",
        "    P_A_mat = jnp.asarray(jnp.linalg.solve(jnp.real(Z_tx), jnp.eye(jnp.real(Z_tx).shape[0])))\n",
        "    S_RF = jnp.asarray(jnp.linalg.solve(Z_tx + Sp.R0 * In, Z_tx - Sp.R0 * In))\n",
        "\n",
        "    L1 = S_RF @ Rp.S_T_tt\n",
        "    L2 = Rp.S_T_rr @ Rp.S_R_RR\n",
        "    aux1 = jnp.linalg.solve(Im - L2, Rp.S_T_rt)\n",
        "    L3 = S_RF @ Rp.S_T_tr @ Rp.S_R_RR @ aux1\n",
        "    K_vTx = jnp.linalg.solve(Z_tx + Sp.R0 * In, In) * jnp.sqrt(Sp.R0)\n",
        "\n",
        "    # G operators\n",
        "    G_vTx_aT = jnp.linalg.solve(In - L1 - L3, K_vTx)\n",
        "    G_vTx_aR = aux1 @ G_vTx_aT\n",
        "\n",
        "    # Get s_R_FR slice we want\n",
        "    s_R_FR_theta_user = jax.lax.dynamic_slice(Rp.s_R_FR_theta, (idx_Omega, 0), (1, Sp.M))\n",
        "    s_R_FR_phi_user = jax.lax.dynamic_slice(Rp.s_R_FR_phi, (idx_Omega, 0), (1, Sp.M))\n",
        "\n",
        "    G_vTx_aF_theta = s_R_FR_theta_user @ G_vTx_aR\n",
        "    G_vTx_aF_phi = s_R_FR_phi_user @ G_vTx_aR\n",
        "\n",
        "    # EXACT BEAMSTEERING VECTOR\n",
        "\n",
        "    # Compute Power Metrics\n",
        "    P_A_exact_exact = jnp.real((1/4))*((jnp.conjugate(v_Tx_exact).T @ P_A_mat) @ v_Tx_exact)\n",
        "\n",
        "    # EXACT MODEL w/ EXACT BEAMSTEERING VECTOR\n",
        "\n",
        "    # Far field\n",
        "    aF_theta_exact = G_vTx_aF_theta @ v_Tx_exact\n",
        "    aF_phi_exact = G_vTx_aF_phi @ v_Tx_exact\n",
        "\n",
        "    # Normalize\n",
        "    aF_normsq_exact = jnp.abs(aF_theta_exact)**2 + jnp.abs(aF_phi_exact)**2;\n",
        "\n",
        "    # Gain metrics\n",
        "    g_A_exact_vTx_exact = jnp.real((4 * jnp.pi / P_A_exact_exact) * aF_normsq_exact).item()\n",
        "    g_A_exact_vTx_exact = jnp.real((4 * jnp.pi / P_A_exact_exact) * aF_normsq_exact)\n",
        "\n",
        "    return jnp.linalg.norm(g_A_exact_vTx_exact)\n",
        "\n",
        "# Function to calculate full Far Field for user location at specific location\n",
        "def far_field_at_user_full(Sp, Rp, z_tx, v_Tx_exact, idx_Omega, s):\n",
        "\n",
        "    # Auxiliary variables for far field results\n",
        "    In = jnp.identity(Sp.N)\n",
        "    Im = jnp.identity(Sp.M)\n",
        "    Z_tx = jnp.diag(z_tx)\n",
        "\n",
        "    P_A_mat = jnp.asarray(jnp.linalg.solve(jnp.real(Z_tx), jnp.eye(jnp.real(Z_tx).shape[0])))\n",
        "    S_RF = jnp.asarray(jnp.linalg.solve(Z_tx + Sp.R0 * In, Z_tx - Sp.R0 * In))\n",
        "\n",
        "    L1 = S_RF @ Rp.S_T_tt\n",
        "    L2 = Rp.S_T_rr @ Rp.S_R_RR\n",
        "    aux1 = jnp.linalg.solve(Im - L2, Rp.S_T_rt)\n",
        "    L3 = S_RF @ Rp.S_T_tr @ Rp.S_R_RR @ aux1\n",
        "    K_vTx = jnp.linalg.solve(Z_tx + Sp.R0 * In, In) * jnp.sqrt(Sp.R0)\n",
        "\n",
        "    # G operators\n",
        "    G_vTx_aT = jnp.linalg.solve(In - L1 - L3, K_vTx)\n",
        "    G_vTx_bT = (Rp.S_T_tr @ Rp.S_R_RR @ aux1 + Rp.S_T_tt) @ G_vTx_aT\n",
        "\n",
        "    G_vTx_aR = aux1 @ G_vTx_aT\n",
        "    G_vTx_bR = Rp.S_R_RR @ G_vTx_aR\n",
        "\n",
        "    G_vTx_aF_theta = jnp.matmul(Rp.s_R_FR_theta, G_vTx_aR)\n",
        "    G_vTx_aF_phi = jnp.matmul(Rp.s_R_FR_phi, G_vTx_aR)\n",
        "\n",
        "    # Compute Power Metrics\n",
        "    P_A_exact_exact = jnp.real((1/4))*((jnp.conjugate(v_Tx_exact).T @ P_A_mat) @ v_Tx_exact)\n",
        "\n",
        "    aT_exact = G_vTx_aT @ v_Tx_exact\n",
        "    bT_exact = G_vTx_bT @ v_Tx_exact\n",
        "    P_T_exact_exact = jnp.linalg.norm(aT_exact)**2 - jnp.linalg.norm(bT_exact)**2\n",
        "\n",
        "    aR_exact = G_vTx_aR @ v_Tx_exact\n",
        "    bR_exact = G_vTx_bR @ v_Tx_exact\n",
        "    P_R_exact_exact = jnp.linalg.norm(aR_exact)**2 - jnp.linalg.norm(bR_exact)**2\n",
        "\n",
        "    # EXACT MODEL w/ EXACT BEAMSTEERING VECTOR\n",
        "\n",
        "    # Far field\n",
        "    aF_theta_exact = G_vTx_aF_theta @ v_Tx_exact\n",
        "    aF_phi_exact = G_vTx_aF_phi @ v_Tx_exact\n",
        "\n",
        "    # Normalize\n",
        "    aF_normsq_exact = jnp.abs(aF_theta_exact)**2 + jnp.abs(aF_phi_exact)**2;\n",
        "\n",
        "    # Gain metrics\n",
        "    g_A_exact_vTx_exact = (4 * jnp.pi / P_A_exact_exact) * aF_normsq_exact\n",
        "    g_T_exact_vTx_exact = (4 * jnp.pi / P_T_exact_exact) * aF_normsq_exact\n",
        "    g_R_exact_vTx_exact = (4 * jnp.pi / P_R_exact_exact) * aF_normsq_exact\n",
        "\n",
        "    return (g_A_exact_vTx_exact, g_T_exact_vTx_exact, g_R_exact_vTx_exact)\n",
        "\n",
        "# Function to calculate v_Tx (only the first time)\n",
        "def v_Tx_calc(Sp, Rp, z_tx, idx_Omega, s):\n",
        "\n",
        "    # Auxiliary variables for far field results\n",
        "    In = jnp.identity(Sp.N)\n",
        "    Im = jnp.identity(Sp.M)\n",
        "    Z_tx = jnp.diag(z_tx)\n",
        "\n",
        "    P_A_mat = jnp.asarray(jnp.linalg.solve(jnp.real(Z_tx), jnp.eye(jnp.real(Z_tx).shape[0])))\n",
        "    S_RF = jnp.asarray(jnp.linalg.solve(Z_tx + Sp.R0 * In, Z_tx - Sp.R0 * In))\n",
        "\n",
        "    L1 = S_RF @ Rp.S_T_tt\n",
        "    L2 = Rp.S_T_rr @ Rp.S_R_RR\n",
        "    aux1 = jnp.linalg.solve(Im - L2, Rp.S_T_rt)\n",
        "    L3 = S_RF @ Rp.S_T_tr @ Rp.S_R_RR @ aux1\n",
        "    K_vTx = jnp.linalg.solve(Z_tx + Sp.R0 * In, In) * jnp.sqrt(Sp.R0)\n",
        "\n",
        "    # G operators\n",
        "    G_vTx_aT = jnp.linalg.solve(In - L1 - L3, K_vTx)\n",
        "    G_vTx_bT = (Rp.S_T_tr @ Rp.S_R_RR @ aux1 + Rp.S_T_tt) @ G_vTx_aT\n",
        "\n",
        "    G_vTx_aR = aux1 @ G_vTx_aT\n",
        "    G_vTx_bR = Rp.S_R_RR @ G_vTx_aR\n",
        "\n",
        "    # Get s_R_FR slice we want\n",
        "    s_R_FR_theta_user = jax.lax.dynamic_slice(Rp.s_R_FR_theta, (idx_Omega, 0), (1, Sp.M))\n",
        "    s_R_FR_phi_user = jax.lax.dynamic_slice(Rp.s_R_FR_phi, (idx_Omega, 0), (1, Sp.M))\n",
        "\n",
        "    G_vTx_aF_theta = s_R_FR_theta_user @ G_vTx_aR\n",
        "    G_vTx_aF_phi = s_R_FR_phi_user @ G_vTx_aR\n",
        "\n",
        "    # EXACT BEAMSTEERING VECTOR\n",
        "\n",
        "    # Extract the values of the G operator where the user is\n",
        "    G_vTx_aF_user = jnp.vstack([G_vTx_aF_theta, G_vTx_aF_phi])\n",
        "\n",
        "    # Create A matrix\n",
        "    inv_sqrt_P_A_mat = jnp.linalg.solve(jnp.sqrt(P_A_mat), jnp.eye(jnp.sqrt(P_A_mat).shape[0]))\n",
        "    G_vTx_aF_user_H = jnp.conjugate(G_vTx_aF_user).T\n",
        "\n",
        "    A = (inv_sqrt_P_A_mat @ G_vTx_aF_user_H) @ (G_vTx_aF_user @ inv_sqrt_P_A_mat)\n",
        "\n",
        "    # Extract eigenvector corresponding to largest eigenvalue\n",
        "    A_eigenvals, A_eigenvecs = jnp.linalg.eig(A)\n",
        "\n",
        "    idx_A = jnp.argmax(jnp.abs(A_eigenvals))  # Index of the largest eigenvalue\n",
        "    x1 = A_eigenvecs[:, idx_A]\n",
        "\n",
        "    # Compute v_Tx\n",
        "    v_Tx_exact = (jnp.sqrt(Sp.p_ctr)*(1/jnp.linalg.norm(x1)))*(inv_sqrt_P_A_mat @ x1)\n",
        "\n",
        "    return v_Tx_exact"
      ],
      "metadata": {
        "id": "uEPLb9Irgx78"
      },
      "execution_count": 38,
      "outputs": []
    },
    {
      "cell_type": "code",
      "execution_count": 88,
      "metadata": {
        "id": "9Ns800dvmMZP"
      },
      "outputs": [],
      "source": [
        "# Define transmission parameters\n",
        "\n",
        "# Symbol to send\n",
        "s = 1\n",
        "\n",
        "# User\n",
        "theta_user = 90\n",
        "phi_user = 90\n",
        "idx = jnp.where((REMS_params.Omega[:, 0] == theta_user) & (REMS_params.Omega[:, 1] == phi_user))[0]\n",
        "idx_Omega = idx[0].item()"
      ]
    },
    {
      "cell_type": "markdown",
      "source": [
        "## Optimization loop\n",
        "\n",
        "while (improvement > min)\n",
        "\n",
        "- update rule on z_tx: z_tx_t1 = z_tx_t + learning_rate*grad_wrt_ztx(z_tx_t)\n",
        "- improvement: ff(z_tx_t1) - ff(z_tx_t)\n",
        "- if loop iteration is multiple of 5, update v_Tx"
      ],
      "metadata": {
        "id": "gpb2DhPSLfdd"
      }
    },
    {
      "cell_type": "code",
      "source": [
        "# Preliminary parameters\n",
        "z_tx_init = 75                                   # initial PA impedances\n",
        "z_tx_t = 0                                       # t current parameter\n",
        "z_tx_t1 = z_tx_init*jnp.ones(sys_params.N)       # t + 1 next parameter\n",
        "v_Tx = v_Tx_calc(sys_params, REMS_params, z_tx_t1, idx_Omega,s)   # exact beamsteering vector\n",
        "\n",
        "lr = 0.01                  # learning rate\n",
        "diff_min = 10**-5         # improvement difference that breaks the loop\n",
        "diff = 1                  # initiate diff\n",
        "epsilon = 10**-8          # small constant to avoid dividing by zero\n",
        "\n",
        "# Preliminary functions\n",
        "ff_grad_wrt_z_tx = grad(far_field_at_user_only_tograd, 2)                 # gradient wrt z_tx\n",
        "jit_ff_user_only = jit(far_field_at_user_only, static_argnums=(0,4,5))    # jit compiled ff\n",
        "jit_vTx_calc = jit(v_Tx_calc, static_argnums=(0,3,4))                     # jit compiled v_Tx"
      ],
      "metadata": {
        "id": "26L2Qf89LjQX"
      },
      "execution_count": 92,
      "outputs": []
    },
    {
      "cell_type": "code",
      "source": [
        "cont = 0\n",
        "\n",
        "while diff > diff_min:\n",
        "\n",
        "  # Update parameter\n",
        "  z_tx_t = z_tx_t1\n",
        "  grad_t = ff_grad_wrt_z_tx(sys_params, REMS_params, z_tx_t, v_Tx, idx_Omega, s)\n",
        "  z_tx_t1 = z_tx_t + lr*grad_t/(jnp.linalg.norm(grad_t)+ epsilon)\n",
        "\n",
        "  # Calculate improvement\n",
        "  arg1 = jnp.real(jit_ff_user_only(sys_params, REMS_params, z_tx_t1, v_Tx, idx_Omega, s)[0])\n",
        "  arg2 = jnp.real(jit_ff_user_only(sys_params, REMS_params, z_tx_t, v_Tx, idx_Omega, s)[0])\n",
        "  diff =  arg1 - arg2\n",
        "\n",
        "  # Update v_Tx\n",
        "  if cont % 5 == 0:\n",
        "    v_Tx = jit_vTx_calc(sys_params, REMS_params, z_tx_t1, idx_Omega, s)\n",
        "\n",
        "  # Update counting\n",
        "  cont = cont + 1\n",
        "\n",
        "  if cont % 100 == 0:\n",
        "    print(cont)\n",
        "  \"\"\"\n",
        "  if cont == 1000:\n",
        "    break\n",
        "  \"\"\"\n",
        "\n",
        "\n",
        "print(z_tx_t1)\n",
        "print(cont)\n",
        "print(diff)"
      ],
      "metadata": {
        "colab": {
          "base_uri": "https://localhost:8080/"
        },
        "collapsed": true,
        "id": "CNN13Lp6ObV_",
        "outputId": "a24d414b-ea67-42d3-81e0-fd34c7c82621"
      },
      "execution_count": 93,
      "outputs": [
        {
          "output_type": "stream",
          "name": "stdout",
          "text": [
            "100\n",
            "200\n",
            "300\n",
            "400\n",
            "500\n",
            "600\n",
            "700\n",
            "800\n",
            "900\n",
            "1000\n",
            "1100\n",
            "1200\n",
            "1300\n",
            "1400\n",
            "1500\n",
            "1600\n",
            "1700\n",
            "1800\n",
            "1900\n",
            "2000\n",
            "2100\n",
            "2200\n",
            "2300\n",
            "2400\n",
            "2500\n",
            "2600\n",
            "[58.06242239 64.71658802 58.06233969]\n",
            "2626\n",
            "[9.99790366e-06]\n"
          ]
        }
      ]
    },
    {
      "cell_type": "code",
      "source": [
        "# Run one z_tx = 50\n",
        "# gradient ascent, lr = 0.1, diff_min e-6 (convergence is ff diff)\n",
        "# ran for about half an hour, stopped runtime myself\n",
        "# User at theta 90 phi 130\n",
        "print(z_tx_t1)\n",
        "print(cont)\n",
        "print(diff)"
      ],
      "metadata": {
        "colab": {
          "base_uri": "https://localhost:8080/"
        },
        "id": "aCN5vgClronH",
        "outputId": "a3d1bade-48b3-4f87-cc87-c3e60badcfab"
      },
      "execution_count": 72,
      "outputs": [
        {
          "output_type": "stream",
          "name": "stdout",
          "text": [
            "[55.1840549  51.75328353 49.4989001 ]\n",
            "31559\n",
            "[2.19906498e-06]\n"
          ]
        }
      ]
    },
    {
      "cell_type": "code",
      "source": [
        "# Run two z_tx = 50\n",
        "# gradient w/ normalization, lr = 0.01, diff_min e-5, epsilon = e-8 (convergence is ff diff)\n",
        "# ran fully, took 6 minutes\n",
        "# User at theta 90 phi 130\n",
        "print(z_tx_t1)\n",
        "print(cont)\n",
        "print(diff)\n",
        "print(jit_ff_user_only(sys_params, REMS_params, z_tx_t1, v_Tx, idx_Omega, s))\n",
        "print(jit_ff_user_only(sys_params, REMS_params, z_tx_init*jnp.ones(sys_params.N), v_Tx, idx_Omega, s))"
      ],
      "metadata": {
        "colab": {
          "base_uri": "https://localhost:8080/"
        },
        "id": "-XBemXP1gqiv",
        "outputId": "bf54e64b-127c-4c07-9fdf-41d13d0f3be3"
      },
      "execution_count": 87,
      "outputs": [
        {
          "output_type": "stream",
          "name": "stdout",
          "text": [
            "[106.77800893  82.88925294  36.50540418]\n",
            "6750\n",
            "[9.98742642e-06]\n",
            "(Array([4.42996662-5.92699032e-17j], dtype=complex128), Array([4.48507259], dtype=float64), Array([4.48507259], dtype=float64))\n",
            "(Array([3.85916624-5.01942175e-17j], dtype=complex128), Array([4.4105986], dtype=float64), Array([4.4105986], dtype=float64))\n"
          ]
        }
      ]
    },
    {
      "cell_type": "code",
      "source": [
        "# Run three z_tx = 50\n",
        "# gradient w/ normalization, lr = 0.01, diff_min e-5, epsilon = e-8 (convergence is ff diff)\n",
        "# ran fully, took 1 minute\n",
        "# User at theta 90 phi 90\n",
        "print(z_tx_t1)\n",
        "print(cont)\n",
        "print(diff)\n",
        "print(jit_ff_user_only(sys_params, REMS_params, z_tx_t1, v_Tx, idx_Omega, s))\n",
        "print(jit_ff_user_only(sys_params, REMS_params, z_tx_init*jnp.ones(sys_params.N), v_Tx, idx_Omega, s))"
      ],
      "metadata": {
        "colab": {
          "base_uri": "https://localhost:8080/"
        },
        "id": "k5X9MfZ7l-NJ",
        "outputId": "72473be8-e931-4c86-878b-3376b805fcaf"
      },
      "execution_count": 91,
      "outputs": [
        {
          "output_type": "stream",
          "name": "stdout",
          "text": [
            "[54.03621578 62.26139974 54.05124506]\n",
            "1353\n",
            "[9.98008414e-06]\n",
            "(Array([5.91222042+1.00949987e-16j], dtype=complex128), Array([6.47625787], dtype=float64), Array([6.47625787], dtype=float64))\n",
            "(Array([5.85114147+5.26962363e-17j], dtype=complex128), Array([6.455929], dtype=float64), Array([6.455929], dtype=float64))\n"
          ]
        }
      ]
    },
    {
      "cell_type": "code",
      "source": [
        "# Run four z_tx = 75\n",
        "# gradient w/ normalization, lr = 0.01, diff_min e-5, epsilon = e-8 (convergence is ff diff)\n",
        "# ran fully, took 1 minute\n",
        "# User at theta 90 phi 90\n",
        "print(z_tx_t1)\n",
        "print(cont)\n",
        "print(diff)\n",
        "print(jit_ff_user_only(sys_params, REMS_params, z_tx_t1, v_Tx, idx_Omega, s))\n",
        "print(jit_ff_user_only(sys_params, REMS_params, z_tx_init*jnp.ones(sys_params.N), v_Tx, idx_Omega, s))"
      ],
      "metadata": {
        "colab": {
          "base_uri": "https://localhost:8080/"
        },
        "id": "-qnNWga7mLUy",
        "outputId": "d10669c5-2126-402c-8966-101bd8b3e850"
      },
      "execution_count": 94,
      "outputs": [
        {
          "output_type": "stream",
          "name": "stdout",
          "text": [
            "[58.06242239 64.71658802 58.06233969]\n",
            "2626\n",
            "[9.99790366e-06]\n",
            "(Array([5.91139802+5.3643704e-17j], dtype=complex128), Array([6.47736536], dtype=float64), Array([6.47736536], dtype=float64))\n",
            "(Array([5.80509127+2.41182871e-18j], dtype=complex128), Array([6.4668544], dtype=float64), Array([6.4668544], dtype=float64))\n"
          ]
        }
      ]
    },
    {
      "cell_type": "markdown",
      "source": [
        "## Trials - Getting the gradients to work\n",
        "Checking that new function definition works, can be jit compiled and can be differentiated\n",
        "\n",
        "*   Note 1: updated function so that it accepts z_tx array as an input, cant calculate the gradient of a class element, need to pass it as a separate input\n",
        "*   Note 2: also passing vTx as we cannot compute the gradient of an eigenvector (but yes if i where using eigenvalues)"
      ],
      "metadata": {
        "id": "v7IWmMTTDfBd"
      }
    },
    {
      "cell_type": "code",
      "source": [
        "# Input PA impedances\n",
        "z_tx_init = 25*jnp.ones(sys_params.N)\n",
        "\n",
        "# v_Tx_init\n",
        "v_Tx_init = v_Tx_calc(sys_params, REMS_params, z_tx_init, idx_Omega,s)"
      ],
      "metadata": {
        "id": "iDC8335JpqAQ"
      },
      "execution_count": null,
      "outputs": []
    },
    {
      "cell_type": "code",
      "source": [
        "# Normal execution - WORKS\n",
        "res_normal = far_field_at_user_only(sys_params, REMS_params,z_tx_init, v_Tx_init, idx_Omega, s)\n",
        "print(res_normal)"
      ],
      "metadata": {
        "colab": {
          "base_uri": "https://localhost:8080/"
        },
        "id": "UgZCQJjeDkyz",
        "outputId": "7a0c71e6-199b-4c95-f415-d603ddcc08b4"
      },
      "execution_count": 8,
      "outputs": [
        {
          "output_type": "stream",
          "name": "stdout",
          "text": [
            "(Array([3.96164179-3.66769966e-17j], dtype=complex128), Array([4.45140864], dtype=float64), Array([4.45140864], dtype=float64))\n"
          ]
        }
      ]
    },
    {
      "cell_type": "code",
      "source": [
        "# Jit compilation - WORKS\n",
        "jit_ff_user_only = jit(far_field_at_user_only, static_argnums=(0,4,5))\n",
        "res_jit = jit_ff_user_only(sys_params, REMS_params,z_tx_init, v_Tx_init, idx_Omega, s)\n",
        "print(res_jit)"
      ],
      "metadata": {
        "colab": {
          "base_uri": "https://localhost:8080/"
        },
        "id": "6LzIoiJeEIoP",
        "outputId": "426aae9d-2594-4487-d92b-b8805c001a7d"
      },
      "execution_count": 9,
      "outputs": [
        {
          "output_type": "stream",
          "name": "stdout",
          "text": [
            "(Array([3.96164179-3.66769966e-17j], dtype=complex128), Array([4.45140864], dtype=float64), Array([4.45140864], dtype=float64))\n"
          ]
        }
      ]
    },
    {
      "cell_type": "code",
      "source": [
        "# Gradient - WORKS\n",
        "z_tx_grad_ff_only = grad(far_field_at_user_only_tograd, 2)\n",
        "z_tx_v_tx_grad_ff_only = grad(far_field_at_user_only_tograd, (2,3))\n",
        "\n",
        "# compare results\n",
        "res_grad = z_tx_v_tx_grad_ff_only(sys_params, REMS_params,z_tx_init, v_Tx_init, idx_Omega, s)\n",
        "print(f\"Grad w.r.t z_tx {res_grad[0]}\")\n",
        "print(f\"Grad w.r.t v_tx {res_grad[1]}\")\n",
        "res_grad = z_tx_grad_ff_only(sys_params, REMS_params,z_tx_init, v_Tx_init, idx_Omega, s)\n",
        "print(f\"Grad w.r.t z_tx {res_grad}\")"
      ],
      "metadata": {
        "colab": {
          "base_uri": "https://localhost:8080/"
        },
        "outputId": "a50afaba-fa0f-48a0-aa2c-dac8214d786d",
        "id": "RFwC8sRNPahG"
      },
      "execution_count": 12,
      "outputs": [
        {
          "output_type": "stream",
          "name": "stdout",
          "text": [
            "Grad w.r.t z_tx [ 0.01701424  0.00534366 -0.00145055]\n",
            "Grad w.r.t v_tx [0.00000000e+00-3.57469344e-17j 1.11022302e-16+1.66533454e-16j\n",
            " 1.11022302e-16-1.66533454e-16j]\n",
            "Grad w.r.t z_tx [ 0.01701424  0.00534366 -0.00145055]\n"
          ]
        },
        {
          "output_type": "stream",
          "name": "stderr",
          "text": [
            "/usr/local/lib/python3.11/dist-packages/jax/_src/lax/lax.py:3656: ComplexWarning: Casting complex values to real discards the imaginary part\n",
            "  x_bar = _convert_element_type(x_bar, x.aval.dtype, x.aval.weak_type)\n"
          ]
        }
      ]
    }
  ]
}